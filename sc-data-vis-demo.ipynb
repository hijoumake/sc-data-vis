{
 "metadata": {
  "celltoolbar": "Slideshow",
  "name": "",
  "signature": "sha256:e9f6c4918ad20c92b9c4f3e9e9b935155a02f71ca501d028866f3730d24b44f4"
 },
 "nbformat": 3,
 "nbformat_minor": 0,
 "worksheets": [
  {
   "cells": [
    {
     "cell_type": "heading",
     "level": 1,
     "metadata": {},
     "source": [
      "SoundCloud API"
     ]
    },
    {
     "cell_type": "code",
     "collapsed": false,
     "input": [
      "# standard library:\n",
      "import os  \n",
      "\n",
      "from pprint import pprint\n",
      "\n",
      "# other modules:\n",
      "import matplotlib.pyplot as plt\n",
      "import pandas as pd\n",
      "import soundcloud as sc\n",
      "import yaml\n",
      "\n",
      "from pymongo import MongoClient\n",
      "%matplotlib inline"
     ],
     "language": "python",
     "metadata": {
      "slideshow": {
       "slide_type": "-"
      }
     },
     "outputs": [],
     "prompt_number": 59
    },
    {
     "cell_type": "heading",
     "level": 2,
     "metadata": {},
     "source": [
      "SoundCloud Credentials"
     ]
    },
    {
     "cell_type": "markdown",
     "metadata": {},
     "source": [
      "For APIs that don't require user authentication, providing a client ID is sufficient\n",
      "\n",
      "To get a client ID, visit http://developers.soundcloud.com to register an app\n",
      "\n",
      "Once you've obtained a client id, create a yml file in the same directory as this notebook and add the client id"
     ]
    },
    {
     "cell_type": "code",
     "collapsed": false,
     "input": [
      "credentials = yaml.load(open('api_cred.yml'))\n",
      "print credentials['CLIENT_ID']"
     ],
     "language": "python",
     "metadata": {
      "slideshow": {
       "slide_type": "-"
      }
     },
     "outputs": [
      {
       "output_type": "stream",
       "stream": "stdout",
       "text": [
        "0f8632d57bdcbbfd9180126601e336c6\n"
       ]
      }
     ],
     "prompt_number": 60
    },
    {
     "cell_type": "code",
     "collapsed": false,
     "input": [
      "sc_client = sc.Client(client_id=credentials['CLIENT_ID'])"
     ],
     "language": "python",
     "metadata": {},
     "outputs": [],
     "prompt_number": 61
    },
    {
     "cell_type": "heading",
     "level": 3,
     "metadata": {},
     "source": [
      "SoundCloud tracks"
     ]
    },
    {
     "cell_type": "code",
     "collapsed": false,
     "input": [
      "tracks = sc_client.get('/tracks', limit=10)\n",
      "for track in tracks:\n",
      "    print track.title"
     ],
     "language": "python",
     "metadata": {},
     "outputs": [
      {
       "output_type": "stream",
       "stream": "stdout",
       "text": [
        "Arston - Zodiac (F1ZzY Progressive Bootleg)\n",
        "Alcoholizao Shamelo - Ft - Savioconuve Rube&seba! 4to - Viciio PRODU!!\n",
        "CPM 22 - Um minuto para o fim do mundo\n",
        "Lil Jay x FBG Duck Type Beat \"Time To Turn Up\" [Prod. LilFreshBeatz]\n",
        "Jiyuu no Tsubasa [ATTACK ON CHIPTUNE]\n",
        "R.O.S,Heavie Heat,Sticky Icky,Badazz Jones,Legend- Martinsburg Most Hated\n",
        "KVRLOX - Shameless\n",
        "Chasin\n",
        "Beny Kush - MasterMind Prod. LKXR\n",
        "Gold Star (Live) - Final Performance\n"
       ]
      }
     ],
     "prompt_number": 62
    },
    {
     "cell_type": "heading",
     "level": 2,
     "metadata": {},
     "source": [
      "Data Visualisations"
     ]
    },
    {
     "cell_type": "markdown",
     "metadata": {},
     "source": [
      "Tracks with a Creative Commons Attribution (\"cc-by\") license sorted by track type.\n",
      "\n",
      "Possible values for track type include: \n",
      "\n",
      "\u201coriginal\u201d,\n",
      "\u201cremix\u201d,\n",
      "\u201clive\u201d,\n",
      "\u201crecording\u201d,\n",
      "\u201cspoken\u201d,\n",
      "\u201cpodcast\u201d,\n",
      "\u201cdemo\u201d,\n",
      "\u201cin progress\u201d,\n",
      "\u201cstem\u201d,\n",
      "\u201cloop\u201d,\n",
      "\u201csound effect\u201d,\n",
      "\u201csample\u201d,\n",
      "\u201cother\u201d"
     ]
    },
    {
     "cell_type": "code",
     "collapsed": false,
     "input": [
      "tracks = sc_client.get('/tracks', license='cc-by', limit=200)"
     ],
     "language": "python",
     "metadata": {},
     "outputs": [],
     "prompt_number": 63
    },
    {
     "cell_type": "code",
     "collapsed": false,
     "input": [
      "#Unwrap resources\n",
      "tracks_list = list()\n",
      "for track in tracks:\n",
      "    tracks_list.append({'track_type': track.track_type})\n",
      "len(tracks_list)"
     ],
     "language": "python",
     "metadata": {},
     "outputs": [
      {
       "metadata": {},
       "output_type": "pyout",
       "prompt_number": 72,
       "text": [
        "200"
       ]
      }
     ],
     "prompt_number": 72
    },
    {
     "cell_type": "code",
     "collapsed": false,
     "input": [
      "tracks_df = pd.DataFrame(tracks_list)"
     ],
     "language": "python",
     "metadata": {},
     "outputs": [],
     "prompt_number": 73
    },
    {
     "cell_type": "code",
     "collapsed": false,
     "input": [
      "tracks_df.head()"
     ],
     "language": "python",
     "metadata": {},
     "outputs": [
      {
       "html": [
        "<div style=\"max-height:1000px;max-width:1500px;overflow:auto;\">\n",
        "<table border=\"1\" class=\"dataframe\">\n",
        "  <thead>\n",
        "    <tr style=\"text-align: right;\">\n",
        "      <th></th>\n",
        "      <th>track_type</th>\n",
        "    </tr>\n",
        "  </thead>\n",
        "  <tbody>\n",
        "    <tr>\n",
        "      <th>0</th>\n",
        "      <td> remix</td>\n",
        "    </tr>\n",
        "    <tr>\n",
        "      <th>1</th>\n",
        "      <td>      </td>\n",
        "    </tr>\n",
        "    <tr>\n",
        "      <th>2</th>\n",
        "      <td> remix</td>\n",
        "    </tr>\n",
        "    <tr>\n",
        "      <th>3</th>\n",
        "      <td> remix</td>\n",
        "    </tr>\n",
        "    <tr>\n",
        "      <th>4</th>\n",
        "      <td> remix</td>\n",
        "    </tr>\n",
        "  </tbody>\n",
        "</table>\n",
        "<p>5 rows \u00d7 1 columns</p>\n",
        "</div>"
       ],
       "metadata": {},
       "output_type": "pyout",
       "prompt_number": 74,
       "text": [
        "  track_type\n",
        "0      remix\n",
        "1           \n",
        "2      remix\n",
        "3      remix\n",
        "4      remix\n",
        "\n",
        "[5 rows x 1 columns]"
       ]
      }
     ],
     "prompt_number": 74
    },
    {
     "cell_type": "markdown",
     "metadata": {},
     "source": []
    },
    {
     "cell_type": "code",
     "collapsed": false,
     "input": [
      "tracks_df.apply(pd.value_counts).plot(kind='bar')"
     ],
     "language": "python",
     "metadata": {},
     "outputs": [
      {
       "metadata": {},
       "output_type": "pyout",
       "prompt_number": 75,
       "text": [
        "<matplotlib.axes.AxesSubplot at 0x10bebc1d0>"
       ]
      },
      {
       "metadata": {},
       "output_type": "display_data",
       "png": "[encoded data removed]",
       "text": [
        "<matplotlib.figure.Figure at 0x119c2df90>"
       ]
      }
     ],
     "prompt_number": 75
    },
    {
     "cell_type": "code",
     "collapsed": false,
     "input": [
      "tracks_df.describe()"
     ],
     "language": "python",
     "metadata": {},
     "outputs": [
      {
       "html": [
        "<div style=\"max-height:1000px;max-width:1500px;overflow:auto;\">\n",
        "<table border=\"1\" class=\"dataframe\">\n",
        "  <thead>\n",
        "    <tr style=\"text-align: right;\">\n",
        "      <th></th>\n",
        "      <th>license</th>\n",
        "    </tr>\n",
        "  </thead>\n",
        "  <tbody>\n",
        "    <tr>\n",
        "      <th>count</th>\n",
        "      <td>                 200</td>\n",
        "    </tr>\n",
        "    <tr>\n",
        "      <th>unique</th>\n",
        "      <td>                   1</td>\n",
        "    </tr>\n",
        "    <tr>\n",
        "      <th>top</th>\n",
        "      <td> all-rights-reserved</td>\n",
        "    </tr>\n",
        "    <tr>\n",
        "      <th>freq</th>\n",
        "      <td>                 200</td>\n",
        "    </tr>\n",
        "  </tbody>\n",
        "</table>\n",
        "<p>4 rows \u00d7 1 columns</p>\n",
        "</div>"
       ],
       "metadata": {},
       "output_type": "pyout",
       "prompt_number": 58,
       "text": [
        "                    license\n",
        "count                   200\n",
        "unique                    1\n",
        "top     all-rights-reserved\n",
        "freq                    200\n",
        "\n",
        "[4 rows x 1 columns]"
       ]
      }
     ],
     "prompt_number": 58
    }
   ],
   "metadata": {}
  }
 ]
}