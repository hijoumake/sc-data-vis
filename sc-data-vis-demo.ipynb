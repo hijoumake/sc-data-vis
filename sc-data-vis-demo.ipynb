{
 "metadata": {
  "celltoolbar": "Slideshow",
  "name": "",
  "signature": "sha256:2a7a7f91fe00401141f47005bd740f166ee7994f88db8ac92acb395ebcdcd49e"
 },
 "nbformat": 3,
 "nbformat_minor": 0,
 "worksheets": [
  {
   "cells": [
    {
     "cell_type": "heading",
     "level": 1,
     "metadata": {},
     "source": [
      "SoundCloud API"
     ]
    },
    {
     "cell_type": "code",
     "collapsed": false,
     "input": [
      "# standard library:\n",
      "import os  \n",
      "\n",
      "from pprint import pprint\n",
      "\n",
      "# other modules:\n",
      "import matplotlib.pyplot as plt\n",
      "import pandas as pd\n",
      "import soundcloud as sc\n",
      "import yaml\n",
      "\n",
      "from pymongo import MongoClient\n",
      "%matplotlib inline"
     ],
     "language": "python",
     "metadata": {
      "slideshow": {
       "slide_type": "-"
      }
     },
     "outputs": []
    },
    {
     "cell_type": "heading",
     "level": 2,
     "metadata": {},
     "source": [
      "SoundCloud Credentials"
     ]
    },
    {
     "cell_type": "markdown",
     "metadata": {},
     "source": [
      "For APIs that don't require user authentication, providing a client ID is sufficient\n",
      "\n",
      "To get a client ID, visit http://developers.soundcloud.com to register an app\n",
      "\n",
      "Once you've obtained a client id, create a yml file in the same directory as this notebook and add the client id"
     ]
    },
    {
     "cell_type": "code",
     "collapsed": false,
     "input": [
      "credentials = yaml.load(open('api_cred.yml'))\n",
      "print credentials['CLIENT_ID']"
     ],
     "language": "python",
     "metadata": {
      "slideshow": {
       "slide_type": "-"
      }
     },
     "outputs": []
    },
    {
     "cell_type": "code",
     "collapsed": false,
     "input": [
      "sc_client = sc.Client(client_id=credentials['CLIENT_ID'])"
     ],
     "language": "python",
     "metadata": {},
     "outputs": []
    },
    {
     "cell_type": "heading",
     "level": 3,
     "metadata": {},
     "source": [
      "SoundCloud tracks"
     ]
    },
    {
     "cell_type": "code",
     "collapsed": false,
     "input": [
      "tracks = sc_client.get('/tracks', limit=10)\n",
      "for track in tracks:\n",
      "    print track.title"
     ],
     "language": "python",
     "metadata": {},
     "outputs": []
    },
    {
     "cell_type": "heading",
     "level": 2,
     "metadata": {},
     "source": [
      "Data Visualisations"
     ]
    },
    {
     "cell_type": "markdown",
     "metadata": {},
     "source": [
      "Tracks with a Creative Commons Attribution (\"cc-by\") license sorted by track type.\n",
      "\n",
      "Possible values for track type include: \n",
      "\n",
      "\u201coriginal\u201d,\n",
      "\u201cremix\u201d,\n",
      "\u201clive\u201d,\n",
      "\u201crecording\u201d,\n",
      "\u201cspoken\u201d,\n",
      "\u201cpodcast\u201d,\n",
      "\u201cdemo\u201d,\n",
      "\u201cin progress\u201d,\n",
      "\u201cstem\u201d,\n",
      "\u201cloop\u201d,\n",
      "\u201csound effect\u201d,\n",
      "\u201csample\u201d,\n",
      "\u201cother\u201d"
     ]
    },
    {
     "cell_type": "code",
     "collapsed": false,
     "input": [
      "tracks = sc_client.get('/tracks', license='cc-by', limit=200)"
     ],
     "language": "python",
     "metadata": {},
     "outputs": []
    },
    {
     "cell_type": "code",
     "collapsed": false,
     "input": [
      "#Unwrap resources\n",
      "tracks_list = list()\n",
      "for track in tracks:\n",
      "    tracks_list.append({'track_type': track.track_type})\n",
      "len(tracks_list)"
     ],
     "language": "python",
     "metadata": {},
     "outputs": []
    },
    {
     "cell_type": "code",
     "collapsed": false,
     "input": [
      "tracks_df = pd.DataFrame(tracks_list)"
     ],
     "language": "python",
     "metadata": {},
     "outputs": []
    },
    {
     "cell_type": "code",
     "collapsed": false,
     "input": [
      "tracks_df.head()"
     ],
     "language": "python",
     "metadata": {},
     "outputs": []
    },
    {
     "cell_type": "code",
     "collapsed": false,
     "input": [
      "tracks_df.apply(pd.value_counts).plot(kind='bar')"
     ],
     "language": "python",
     "metadata": {},
     "outputs": []
    },
    {
     "cell_type": "code",
     "collapsed": false,
     "input": [
      "tracks_df.describe()"
     ],
     "language": "python",
     "metadata": {},
     "outputs": []
    }
   ],
   "metadata": {}
  }
 ]
}